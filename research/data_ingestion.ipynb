{
 "cells": [
  {
   "cell_type": "code",
   "execution_count": null,
   "id": "12baf81b",
   "metadata": {},
   "outputs": [],
   "source": [
    "# Update config.yaml\n",
    "# Update secrets.yaml [Optional]\n",
    "# Update params.yaml\n",
    "# Update the entity\n",
    "# Update the configuration manager in src config\n",
    "# Update the components\n",
    "# Update the pipeline\n",
    "# Update the main.py\n",
    "\n",
    "\n",
    "# Update the dvc.yaml\n",
    "# app.py"
   ]
  },
  {
   "cell_type": "code",
   "execution_count": null,
   "id": "c080e3a4",
   "metadata": {},
   "outputs": [],
   "source": []
  }
 ],
 "metadata": {
  "kernelspec": {
   "display_name": "aienv",
   "language": "python",
   "name": "python3"
  },
  "language_info": {
   "name": "python",
   "version": "3.10.18"
  }
 },
 "nbformat": 4,
 "nbformat_minor": 5
}
